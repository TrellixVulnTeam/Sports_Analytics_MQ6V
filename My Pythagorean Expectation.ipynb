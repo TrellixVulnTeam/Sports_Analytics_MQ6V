{
 "cells": [
  {
   "cell_type": "markdown",
   "source": [
    "1. Relation between the scores and the wins/losses\n",
    "2. Relation between the players and the scores\n",
    "\n",
    "# Score and win percentage - Pythagorean expectation\n",
    "\n",
    "Pythagorean expectation is a sports analytics formula devised by Bill James to estimate the percentage of games a\n",
    "baseball team \"should\" have won based on the number of runs they scored and allowed.\n",
    "\n",
    "Comparing a team's actual and Pythagorean winning percentage can be used to make predictions and evaluate which teams\n",
    "are over-performing and under-performing.\n",
    "\n",
    "\\begin{equation}\n",
    "WinRatio = \\frac {runs_{scored} ^2} {(runs_{scored}^2 + runs_{allowed}^2)}\n",
    "\\end{equation}\n",
    "\n",
    "Source: https://en.wikipedia.org/wiki/Pythagorean_expectation"
   ],
   "metadata": {
    "collapsed": false,
    "pycharm": {
     "name": "#%% md\n"
    }
   }
  }
 ],
 "metadata": {
  "kernelspec": {
   "display_name": "Python 3",
   "language": "python",
   "name": "python3"
  },
  "language_info": {
   "codemirror_mode": {
    "name": "ipython",
    "version": 2
   },
   "file_extension": ".py",
   "mimetype": "text/x-python",
   "name": "python",
   "nbconvert_exporter": "python",
   "pygments_lexer": "ipython2",
   "version": "2.7.6"
  }
 },
 "nbformat": 4,
 "nbformat_minor": 0
}